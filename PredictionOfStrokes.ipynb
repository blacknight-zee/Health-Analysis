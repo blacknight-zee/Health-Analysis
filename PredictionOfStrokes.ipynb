{
  "nbformat": 4,
  "nbformat_minor": 0,
  "metadata": {
    "colab": {
      "provenance": [],
      "authorship_tag": "ABX9TyO41C1FpUPwwo1NJkIuEKza",
      "include_colab_link": true
    },
    "kernelspec": {
      "name": "python3",
      "display_name": "Python 3"
    },
    "language_info": {
      "name": "python"
    }
  },
  "cells": [
    {
      "cell_type": "markdown",
      "metadata": {
        "id": "view-in-github",
        "colab_type": "text"
      },
      "source": [
        "<a href=\"https://colab.research.google.com/github/blacknight-zee/Health-Analysis/blob/main/PredictionOfStrokes.ipynb\" target=\"_parent\"><img src=\"https://colab.research.google.com/assets/colab-badge.svg\" alt=\"Open In Colab\"/></a>"
      ]
    },
    {
      "cell_type": "code",
      "execution_count": null,
      "metadata": {
        "id": "RunSkqWWlg5p"
      },
      "outputs": [],
      "source": [
        "import pandas as pd\n",
        "import numpy as np\n",
        "import seaborn as sns\n",
        "import matplotlib.pyplot as plt\n",
        "import warnings\n",
        "from datetime import datetime\n",
        "\n",
        "################### Sklearn ####################################\n",
        "from sklearn.preprocessing import MinMaxScaler\n",
        "from sklearn.model_selection import train_test_split, GridSearchCV\n",
        "from sklearn.ensemble import RandomForestClassifier\n",
        "from sklearn import metrics\n",
        "from sklearn.linear_model import LogisticRegression\n",
        "from sklearn.svm import SVC\n",
        "from sklearn.tree import DecisionTreeClassifier\n",
        "from sklearn.neighbors import KNeighborsClassifier"
      ]
    },
    {
      "cell_type": "code",
      "source": [
        "pd.options.mode.copy_on_write = True\n",
        "sns.set_style('darkgrid')\n",
        "warnings.filterwarnings('ignore')\n",
        "pd.set_option('display.max_columns', None)\n",
        "pd.set_option('display.max_colwidth', None)"
      ],
      "metadata": {
        "id": "G1oMg0W1l_Bh"
      },
      "execution_count": null,
      "outputs": []
    },
    {
      "cell_type": "code",
      "source": [
        "from google.colab import files\n",
        "uploaded = files.upload()"
      ],
      "metadata": {
        "id": "7mecPz8rmAvv"
      },
      "execution_count": null,
      "outputs": []
    },
    {
      "cell_type": "code",
      "source": [
        "data = pd.read_csv('healthcare-dataset-stroke-data.csv')"
      ],
      "metadata": {
        "id": "HdVzVNWGmCfx"
      },
      "execution_count": null,
      "outputs": []
    },
    {
      "cell_type": "code",
      "source": [
        "data"
      ],
      "metadata": {
        "id": "5YPdEyGrmEqx"
      },
      "execution_count": null,
      "outputs": []
    },
    {
      "cell_type": "code",
      "source": [
        "data.drop(columns='id', inplace=True)"
      ],
      "metadata": {
        "id": "UP1vgeNFmHih"
      },
      "execution_count": null,
      "outputs": []
    },
    {
      "cell_type": "code",
      "source": [
        "data.info()"
      ],
      "metadata": {
        "id": "rNf4ILmamKFC"
      },
      "execution_count": null,
      "outputs": []
    },
    {
      "cell_type": "code",
      "source": [
        "round(data.describe(include='all'), 2)"
      ],
      "metadata": {
        "id": "QpMMypC4mLwJ"
      },
      "execution_count": null,
      "outputs": []
    },
    {
      "cell_type": "code",
      "source": [
        "data.isna().sum()"
      ],
      "metadata": {
        "id": "n4V8Rse9mNaB"
      },
      "execution_count": null,
      "outputs": []
    },
    {
      "cell_type": "code",
      "source": [
        "print((data.isna().sum()/len(data))*100)"
      ],
      "metadata": {
        "id": "duceRCHumO83"
      },
      "execution_count": null,
      "outputs": []
    },
    {
      "cell_type": "code",
      "source": [
        "data.dropna(how='any', inplace=True)\n",
        "\n"
      ],
      "metadata": {
        "id": "76x4N380mQmQ"
      },
      "execution_count": null,
      "outputs": []
    },
    {
      "cell_type": "code",
      "source": [
        "cols = data.columns[:-1]\n",
        "cols"
      ],
      "metadata": {
        "id": "EwQxHIEcmRSl"
      },
      "execution_count": null,
      "outputs": []
    },
    {
      "cell_type": "code",
      "source": [
        "data"
      ],
      "metadata": {
        "id": "BdBqGsGWmTwC"
      },
      "execution_count": null,
      "outputs": []
    },
    {
      "cell_type": "code",
      "source": [
        "numeric_columns = ['age', 'bmi', 'avg_glucose_level']\n",
        "categorical_columns = ['gender', 'hypertension', 'heart_disease', 'ever_married', 'work_type', 'Residence_type', 'smoking_status', 'stroke']"
      ],
      "metadata": {
        "id": "UUp0KfBmmUWG"
      },
      "execution_count": null,
      "outputs": []
    },
    {
      "cell_type": "code",
      "source": [
        "i = 0\n",
        "fig, ax = plt.subplots(3, 3, figsize=(15, 8))\n",
        "plt.subplots_adjust(hspace = 0.5)\n",
        "for num_col in numeric_columns :\n",
        "    sns.kdeplot(x=num_col, hue='stroke', data=data, multiple='stack', ax=ax[i,0])\n",
        "    sns.boxplot(x=num_col, data=data, ax=ax[i, 1])\n",
        "    sns.scatterplot(x=num_col, y='stroke', data=data, ax=ax[i, 2])\n",
        "    i+=1\n",
        "plt.show()"
      ],
      "metadata": {
        "id": "U0sivqQsmUYm"
      },
      "execution_count": null,
      "outputs": []
    },
    {
      "cell_type": "code",
      "source": [
        "i=0\n",
        "while i<8 :\n",
        "\n",
        "    # Left AX\n",
        "    fig = plt.figure(figsize=(10, 4))\n",
        "    plt.subplot(1, 2, 1)\n",
        "    plt.title(categorical_columns[i], size=20, weight='bold', color='navy')\n",
        "    ax = sns.countplot(x=categorical_columns[i], data=data)\n",
        "    ax.bar_label(ax.containers[0])\n",
        "    ax.tick_params(axis='x', rotation=300)\n",
        "    i+=1\n",
        "\n",
        "    # Right AX\n",
        "    plt.subplot(1, 2, 2)\n",
        "    plt.title(categorical_columns[i], size=20, weight='bold', color='navy')\n",
        "    ax = sns.countplot(x=categorical_columns[i], data=data)\n",
        "    ax.bar_label(ax.containers[0])\n",
        "    ax.tick_params(axis='x', rotation=300)\n",
        "    i+=1\n",
        "    plt.show()"
      ],
      "metadata": {
        "id": "QdKOqoiOmUbM"
      },
      "execution_count": null,
      "outputs": []
    },
    {
      "cell_type": "code",
      "source": [
        "x = data['stroke'].value_counts()\n",
        "\n",
        "\n",
        "explode = [0, 0.15]\n",
        "labels = ['Stroke=0', 'Stroke=1']\n",
        "fig, ax = plt.subplots(figsize=(6, 6), subplot_kw=dict(aspect=\"equal\"))\n",
        "\n",
        "plt.pie(x, explode=explode, shadow=True, autopct='%1.1f%%', labels=labels, textprops=dict(color=\"w\", weight='bold', size=15))\n",
        "plt.legend()\n",
        "plt.show()"
      ],
      "metadata": {
        "id": "Epd2oMC-mUeo"
      },
      "execution_count": null,
      "outputs": []
    },
    {
      "cell_type": "code",
      "source": [
        "columns_temp = ['gender', 'ever_married', 'work_type', 'smoking_status', 'Residence_type']\n",
        "\n",
        "for col in columns_temp :\n",
        "    print('column :', col)\n",
        "    for index, unique in enumerate(data[col].unique()) :\n",
        "        print(unique, ':', index)\n",
        "    print('_'*45)"
      ],
      "metadata": {
        "id": "dfXCECs0maa4"
      },
      "execution_count": null,
      "outputs": []
    },
    {
      "cell_type": "code",
      "source": [
        "# gender\n",
        "data_2 = data.replace(\n",
        "    {'gender' : {'Male' : 0, 'Female' : 1, 'Other' : 2}}\n",
        ")\n",
        "\n",
        "# ever_married\n",
        "data_2 =  data_2.replace(\n",
        "    {'ever_married' : {'Yes' : 0, 'No' : 1}}\n",
        ")\n",
        "\n",
        "# work_type\n",
        "data_2 =  data_2.replace(\n",
        "    {'work_type' : {'Private' : 0, 'Self-employed' : 1, 'Govt_job' : 2, 'children' : 3, 'Never_worked' : 4}}\n",
        ")\n",
        "\n",
        "# smoking_status\n",
        "data_2 =  data_2.replace(\n",
        "    {'smoking_status' : {'formerly smoked' : 0, 'never smoked' : 1, 'smokes' : 2, 'Unknown' : 3}}\n",
        ")\n",
        "\n",
        "# Residence_type\n",
        "data_2 =  data_2.replace(\n",
        "    {'Residence_type' : {'Urban' : 0, 'Rural' : 1}}\n",
        ")"
      ],
      "metadata": {
        "id": "1dRSwbA2mdfz"
      },
      "execution_count": null,
      "outputs": []
    },
    {
      "cell_type": "code",
      "source": [
        "data_2.head()"
      ],
      "metadata": {
        "id": "MnaOsfMzmfAr"
      },
      "execution_count": null,
      "outputs": []
    },
    {
      "cell_type": "code",
      "source": [
        "X_temp = data_2.drop(columns='stroke')\n",
        "y = data_2.stroke"
      ],
      "metadata": {
        "id": "m6ZV0xl0mfjS"
      },
      "execution_count": null,
      "outputs": []
    },
    {
      "cell_type": "code",
      "source": [
        "scaler = MinMaxScaler().fit_transform(X_temp)\n",
        "X = pd.DataFrame(scaler, columns=X_temp.columns)\n",
        "X.describe()"
      ],
      "metadata": {
        "id": "e2mCmpCZmflx"
      },
      "execution_count": null,
      "outputs": []
    },
    {
      "cell_type": "code",
      "source": [
        "def plot_confusion_matrix(y_test, y_prediction):\n",
        "    cm = metrics.confusion_matrix(y_test, y_prediction)\n",
        "    ax = plt.subplot()\n",
        "    ax = sns.heatmap(cm, annot=True, fmt='', cmap=\"Greens\")\n",
        "    ax.set_xlabel('Prediced labels')\n",
        "    ax.set_ylabel('True labels')\n",
        "    ax.set_title('Confusion Matrix')\n",
        "    ax.xaxis.set_ticklabels(['Dont Had Stroke', 'Had Stroke'])\n",
        "    ax.yaxis.set_ticklabels(['Dont Had Stroke', 'Had Stroke'])\n",
        "    plt.show()"
      ],
      "metadata": {
        "id": "EJoIUAjsmfoJ"
      },
      "execution_count": null,
      "outputs": []
    },
    {
      "cell_type": "code",
      "source": [
        "X_train, X_test, y_train, y_test = train_test_split(X, y, random_state=0, test_size=0.25)"
      ],
      "metadata": {
        "id": "YjzKEnPsmfqf"
      },
      "execution_count": null,
      "outputs": []
    },
    {
      "cell_type": "code",
      "source": [
        "parameters = {\n",
        "    'C' : [0.001, 0.01, 0.1, 1.0, 10, 100, 1000],\n",
        "    'class_weight' : ['balanced'],\n",
        "    'solver' : ['lbfgs', 'liblinear', 'newton-cg', 'newton-cholesky', 'sag', 'saga']\n",
        "}\n",
        "\n",
        "lr = LogisticRegression()\n",
        "lr_cv = GridSearchCV(estimator=lr, param_grid=parameters, cv=10).fit(X_train, y_train)\n",
        "\n",
        "print('Tuned hyper parameters : ', lr_cv.best_params_)\n",
        "print('accuracy : ', lr_cv.best_score_)"
      ],
      "metadata": {
        "id": "THMMC0aVmft8"
      },
      "execution_count": null,
      "outputs": []
    },
    {
      "cell_type": "code",
      "source": [
        "\n",
        "t1 = datetime.now()\n",
        "\n",
        "lr = LogisticRegression(**lr_cv.best_params_).fit(X_train, y_train)\n",
        "\n",
        "t2 = datetime.now()"
      ],
      "metadata": {
        "id": "y9NK4frGmm1H"
      },
      "execution_count": null,
      "outputs": []
    },
    {
      "cell_type": "code",
      "source": [
        "y_pred_lr = lr.predict(X_test)\n",
        "\n",
        "lr_score = round(lr.score(X_test, y_test), 3)\n",
        "print('LogisticRegression score : ', lr_score)"
      ],
      "metadata": {
        "id": "ZjXhCwiVmnV_"
      },
      "execution_count": null,
      "outputs": []
    },
    {
      "cell_type": "code",
      "source": [
        "delta = t2-t1\n",
        "delta_lr = round(delta.total_seconds(), 3)\n",
        "print('LogisticRegression takes : ', delta_lr, 'Seconds')"
      ],
      "metadata": {
        "id": "tqZMZ-2Dmot4"
      },
      "execution_count": null,
      "outputs": []
    },
    {
      "cell_type": "code",
      "source": [
        "plot_confusion_matrix(y_test, y_pred_lr)"
      ],
      "metadata": {
        "id": "e6D9rdOKmqzv"
      },
      "execution_count": null,
      "outputs": []
    },
    {
      "cell_type": "code",
      "source": [
        "cr = metrics.classification_report(y_test, y_pred_lr)\n",
        "print(cr)"
      ],
      "metadata": {
        "id": "FC3x_Kd0ms-k"
      },
      "execution_count": null,
      "outputs": []
    },
    {
      "cell_type": "code",
      "source": [
        "parameters = {\n",
        "    'n_neighbors' : list(np.arange(3, 20, 2)),\n",
        "    'p' : [1, 2, 3, 4]\n",
        "}\n",
        "\n",
        "# calculate time to run in second\n",
        "t1 = datetime.now()\n",
        "\n",
        "knn = KNeighborsClassifier()\n",
        "knn_cv = GridSearchCV(estimator=knn, cv=10, param_grid=parameters).fit(X_train, y_train)\n",
        "\n",
        "t2 = datetime.now()\n",
        "\n",
        "print('Tuned hyper parameters : ', knn_cv.best_params_)\n",
        "print('accuracy : ', knn_cv.best_score_)"
      ],
      "metadata": {
        "id": "tm-MqSahmubf"
      },
      "execution_count": null,
      "outputs": []
    },
    {
      "cell_type": "code",
      "source": [
        "t1 = datetime.now()\n",
        "# Model :\n",
        "knn = KNeighborsClassifier(**knn_cv.best_params_).fit(X_train, y_train)\n",
        "# Calculate time after run algorithm :\n",
        "t2 = datetime.now()"
      ],
      "metadata": {
        "id": "S03Jw_KZmu9a"
      },
      "execution_count": null,
      "outputs": []
    },
    {
      "cell_type": "code",
      "source": [
        "y_pred_knn = knn_cv.predict(X_test)\n",
        "\n",
        "knn_score = round(knn.score(X_test, y_test), 3)\n",
        "print('KNeighborsClassifier Score :', knn_score)"
      ],
      "metadata": {
        "id": "7utXfsPrmwo2"
      },
      "execution_count": null,
      "outputs": []
    },
    {
      "cell_type": "code",
      "source": [
        "delta = t2-t1\n",
        "delta_knn = round(delta.total_seconds(), 3)\n",
        "print('KNeighborsClassifier takes : ', delta_knn, 'Seconds')"
      ],
      "metadata": {
        "id": "Xy7So6DcmxKx"
      },
      "execution_count": null,
      "outputs": []
    },
    {
      "cell_type": "code",
      "source": [
        "plot_confusion_matrix(y_test, y_pred_knn)"
      ],
      "metadata": {
        "id": "8c1_Cec2mx2F"
      },
      "execution_count": null,
      "outputs": []
    }
  ]
}